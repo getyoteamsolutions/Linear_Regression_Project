{
 "cells": [
  {
   "cell_type": "code",
   "execution_count": null,
   "id": "019702eb-cdd9-4541-b29b-f30748418a1b",
   "metadata": {},
   "outputs": [],
   "source": [
    "# Small linear regression model,, to predict the life satisfaction based on the single attribute GDP per capita"
   ]
  },
  {
   "cell_type": "code",
   "execution_count": 156,
   "id": "1195fcb5-2812-4ea1-b43e-a956a59c283d",
   "metadata": {},
   "outputs": [],
   "source": [
    "import pandas as pd\n",
    "import numpy as np\n",
    "import matplotlib.pyplot as plt\n",
    "import seaborn as sns\n",
    "from sklearn.linear_model import LinearRegression\n",
    "from sklearn.metrics import mean_squared_error"
   ]
  },
  {
   "cell_type": "code",
   "execution_count": 139,
   "id": "820ce2a1-5eb9-42e0-b8d3-85a316896a06",
   "metadata": {},
   "outputs": [
    {
     "data": {
      "text/html": [
       "<div>\n",
       "<style scoped>\n",
       "    .dataframe tbody tr th:only-of-type {\n",
       "        vertical-align: middle;\n",
       "    }\n",
       "\n",
       "    .dataframe tbody tr th {\n",
       "        vertical-align: top;\n",
       "    }\n",
       "\n",
       "    .dataframe thead th {\n",
       "        text-align: right;\n",
       "    }\n",
       "</style>\n",
       "<table border=\"1\" class=\"dataframe\">\n",
       "  <thead>\n",
       "    <tr style=\"text-align: right;\">\n",
       "      <th></th>\n",
       "      <th>Entity</th>\n",
       "      <th>Code</th>\n",
       "      <th>Year</th>\n",
       "      <th>GDP per capita</th>\n",
       "      <th>900793-annotations</th>\n",
       "    </tr>\n",
       "  </thead>\n",
       "  <tbody>\n",
       "    <tr>\n",
       "      <th>21576</th>\n",
       "      <td>Zimbabwe</td>\n",
       "      <td>ZWE</td>\n",
       "      <td>2013</td>\n",
       "      <td>1766.3789</td>\n",
       "      <td>NaN</td>\n",
       "    </tr>\n",
       "    <tr>\n",
       "      <th>21577</th>\n",
       "      <td>Zimbabwe</td>\n",
       "      <td>ZWE</td>\n",
       "      <td>2014</td>\n",
       "      <td>1789.0048</td>\n",
       "      <td>NaN</td>\n",
       "    </tr>\n",
       "    <tr>\n",
       "      <th>21578</th>\n",
       "      <td>Zimbabwe</td>\n",
       "      <td>ZWE</td>\n",
       "      <td>2015</td>\n",
       "      <td>1798.7872</td>\n",
       "      <td>NaN</td>\n",
       "    </tr>\n",
       "    <tr>\n",
       "      <th>21579</th>\n",
       "      <td>Zimbabwe</td>\n",
       "      <td>ZWE</td>\n",
       "      <td>2016</td>\n",
       "      <td>1782.8301</td>\n",
       "      <td>NaN</td>\n",
       "    </tr>\n",
       "    <tr>\n",
       "      <th>21580</th>\n",
       "      <td>Zimbabwe</td>\n",
       "      <td>ZWE</td>\n",
       "      <td>2017</td>\n",
       "      <td>1843.9463</td>\n",
       "      <td>NaN</td>\n",
       "    </tr>\n",
       "    <tr>\n",
       "      <th>21581</th>\n",
       "      <td>Zimbabwe</td>\n",
       "      <td>ZWE</td>\n",
       "      <td>2018</td>\n",
       "      <td>1900.1992</td>\n",
       "      <td>NaN</td>\n",
       "    </tr>\n",
       "    <tr>\n",
       "      <th>21582</th>\n",
       "      <td>Zimbabwe</td>\n",
       "      <td>ZWE</td>\n",
       "      <td>2019</td>\n",
       "      <td>1753.0244</td>\n",
       "      <td>NaN</td>\n",
       "    </tr>\n",
       "    <tr>\n",
       "      <th>21583</th>\n",
       "      <td>Zimbabwe</td>\n",
       "      <td>ZWE</td>\n",
       "      <td>2020</td>\n",
       "      <td>1585.9728</td>\n",
       "      <td>NaN</td>\n",
       "    </tr>\n",
       "    <tr>\n",
       "      <th>21584</th>\n",
       "      <td>Zimbabwe</td>\n",
       "      <td>ZWE</td>\n",
       "      <td>2021</td>\n",
       "      <td>1687.2532</td>\n",
       "      <td>NaN</td>\n",
       "    </tr>\n",
       "    <tr>\n",
       "      <th>21585</th>\n",
       "      <td>Zimbabwe</td>\n",
       "      <td>ZWE</td>\n",
       "      <td>2022</td>\n",
       "      <td>1703.5294</td>\n",
       "      <td>NaN</td>\n",
       "    </tr>\n",
       "  </tbody>\n",
       "</table>\n",
       "</div>"
      ],
      "text/plain": [
       "         Entity Code  Year  GDP per capita 900793-annotations\n",
       "21576  Zimbabwe  ZWE  2013       1766.3789                NaN\n",
       "21577  Zimbabwe  ZWE  2014       1789.0048                NaN\n",
       "21578  Zimbabwe  ZWE  2015       1798.7872                NaN\n",
       "21579  Zimbabwe  ZWE  2016       1782.8301                NaN\n",
       "21580  Zimbabwe  ZWE  2017       1843.9463                NaN\n",
       "21581  Zimbabwe  ZWE  2018       1900.1992                NaN\n",
       "21582  Zimbabwe  ZWE  2019       1753.0244                NaN\n",
       "21583  Zimbabwe  ZWE  2020       1585.9728                NaN\n",
       "21584  Zimbabwe  ZWE  2021       1687.2532                NaN\n",
       "21585  Zimbabwe  ZWE  2022       1703.5294                NaN"
      ]
     },
     "execution_count": 139,
     "metadata": {},
     "output_type": "execute_result"
    }
   ],
   "source": [
    "#reading the csv data received from https://ourworldindata.org/grapher/gdp-per-capita-maddison?tab=table\n",
    "\n",
    "df = pd.read_csv('gdp-per-capita-maddison.csv')\n",
    "df.tail(10)"
   ]
  },
  {
   "cell_type": "code",
   "execution_count": 140,
   "id": "242cc760-91c4-40f4-98d5-9994366ecb23",
   "metadata": {},
   "outputs": [],
   "source": [
    "# we just looking for the recent year data that was collected and then dropping the 3 columns\n",
    "\n",
    "df1 = df[df['Year']== 2022]\n",
    "df1 = df1.drop(['900793-annotations','Code','Year'],axis=1)"
   ]
  },
  {
   "cell_type": "code",
   "execution_count": 141,
   "id": "cd6ed650-fa2c-41fb-87ed-48766b09c10b",
   "metadata": {},
   "outputs": [
    {
     "data": {
      "text/html": [
       "<div>\n",
       "<style scoped>\n",
       "    .dataframe tbody tr th:only-of-type {\n",
       "        vertical-align: middle;\n",
       "    }\n",
       "\n",
       "    .dataframe tbody tr th {\n",
       "        vertical-align: top;\n",
       "    }\n",
       "\n",
       "    .dataframe thead th {\n",
       "        text-align: right;\n",
       "    }\n",
       "</style>\n",
       "<table border=\"1\" class=\"dataframe\">\n",
       "  <thead>\n",
       "    <tr style=\"text-align: right;\">\n",
       "      <th></th>\n",
       "      <th>Country</th>\n",
       "      <th>GDP per capita</th>\n",
       "    </tr>\n",
       "  </thead>\n",
       "  <tbody>\n",
       "    <tr>\n",
       "      <th>700</th>\n",
       "      <td>Australia</td>\n",
       "      <td>52049.430</td>\n",
       "    </tr>\n",
       "    <tr>\n",
       "      <th>4186</th>\n",
       "      <td>Denmark</td>\n",
       "      <td>50689.680</td>\n",
       "    </tr>\n",
       "    <tr>\n",
       "      <th>6023</th>\n",
       "      <td>France</td>\n",
       "      <td>39065.710</td>\n",
       "    </tr>\n",
       "    <tr>\n",
       "      <th>7661</th>\n",
       "      <td>Hungary</td>\n",
       "      <td>29451.855</td>\n",
       "    </tr>\n",
       "    <tr>\n",
       "      <th>12341</th>\n",
       "      <td>New Zealand</td>\n",
       "      <td>38250.120</td>\n",
       "    </tr>\n",
       "    <tr>\n",
       "      <th>19235</th>\n",
       "      <td>Turkey</td>\n",
       "      <td>27361.988</td>\n",
       "    </tr>\n",
       "    <tr>\n",
       "      <th>20649</th>\n",
       "      <td>United States</td>\n",
       "      <td>58487.465</td>\n",
       "    </tr>\n",
       "  </tbody>\n",
       "</table>\n",
       "</div>"
      ],
      "text/plain": [
       "             Country  GDP per capita\n",
       "700        Australia       52049.430\n",
       "4186         Denmark       50689.680\n",
       "6023          France       39065.710\n",
       "7661         Hungary       29451.855\n",
       "12341    New Zealand       38250.120\n",
       "19235         Turkey       27361.988\n",
       "20649  United States       58487.465"
      ]
     },
     "execution_count": 141,
     "metadata": {},
     "output_type": "execute_result"
    }
   ],
   "source": [
    "# we are just looking for the specific country data so extracting those\n",
    "\n",
    "df1.head(10)\n",
    "\n",
    "countries_for_analysis = ['Turkey','Hungary','France','United States','New Zealand','Australia','Denmark'] \n",
    "\n",
    "df1.rename(columns={'Entity':'Country'},inplace = True)\n",
    "filtered_df1 = df1[df1['Country'].isin(countries_for_analysis)]\n",
    "filtered_df1"
   ]
  },
  {
   "cell_type": "code",
   "execution_count": 142,
   "id": "a974ddf5-4638-4861-903e-04ab96f22417",
   "metadata": {},
   "outputs": [],
   "source": [
    "# removing the index and make the countries as the index\n",
    "\n",
    "filtered_df1.reset_index(drop=True,inplace=True)\n",
    "\n",
    "filtered_df1.set_index('Country', inplace=True)"
   ]
  },
  {
   "cell_type": "code",
   "execution_count": 143,
   "id": "d1bff865-19b5-4648-adf6-9b8427b733d2",
   "metadata": {},
   "outputs": [
    {
     "data": {
      "text/html": [
       "<div>\n",
       "<style scoped>\n",
       "    .dataframe tbody tr th:only-of-type {\n",
       "        vertical-align: middle;\n",
       "    }\n",
       "\n",
       "    .dataframe tbody tr th {\n",
       "        vertical-align: top;\n",
       "    }\n",
       "\n",
       "    .dataframe thead th {\n",
       "        text-align: right;\n",
       "    }\n",
       "</style>\n",
       "<table border=\"1\" class=\"dataframe\">\n",
       "  <thead>\n",
       "    <tr style=\"text-align: right;\">\n",
       "      <th></th>\n",
       "      <th>GDP per capita</th>\n",
       "    </tr>\n",
       "    <tr>\n",
       "      <th>Country</th>\n",
       "      <th></th>\n",
       "    </tr>\n",
       "  </thead>\n",
       "  <tbody>\n",
       "    <tr>\n",
       "      <th>Australia</th>\n",
       "      <td>52049.430</td>\n",
       "    </tr>\n",
       "    <tr>\n",
       "      <th>Denmark</th>\n",
       "      <td>50689.680</td>\n",
       "    </tr>\n",
       "    <tr>\n",
       "      <th>France</th>\n",
       "      <td>39065.710</td>\n",
       "    </tr>\n",
       "    <tr>\n",
       "      <th>Hungary</th>\n",
       "      <td>29451.855</td>\n",
       "    </tr>\n",
       "    <tr>\n",
       "      <th>New Zealand</th>\n",
       "      <td>38250.120</td>\n",
       "    </tr>\n",
       "    <tr>\n",
       "      <th>Turkey</th>\n",
       "      <td>27361.988</td>\n",
       "    </tr>\n",
       "    <tr>\n",
       "      <th>United States</th>\n",
       "      <td>58487.465</td>\n",
       "    </tr>\n",
       "  </tbody>\n",
       "</table>\n",
       "</div>"
      ],
      "text/plain": [
       "               GDP per capita\n",
       "Country                      \n",
       "Australia           52049.430\n",
       "Denmark             50689.680\n",
       "France              39065.710\n",
       "Hungary             29451.855\n",
       "New Zealand         38250.120\n",
       "Turkey              27361.988\n",
       "United States       58487.465"
      ]
     },
     "execution_count": 143,
     "metadata": {},
     "output_type": "execute_result"
    }
   ],
   "source": [
    "filtered_df1"
   ]
  },
  {
   "cell_type": "code",
   "execution_count": 144,
   "id": "c73ceef3-340d-4a2f-85b7-c04e668e9dc7",
   "metadata": {},
   "outputs": [],
   "source": [
    "#fetching another set of data from https://www.oecdbetterlifeindex.org and renaming the column name\n",
    "\n",
    "df2 = pd.read_excel('DataForFigure2.1+with+sub+bars+2024.xls')\n",
    "df2.rename(columns={'Country name':'Country'},inplace = True)"
   ]
  },
  {
   "cell_type": "code",
   "execution_count": null,
   "id": "821241c9-d83c-48bc-840b-ba732d6430ff",
   "metadata": {},
   "outputs": [],
   "source": []
  },
  {
   "cell_type": "code",
   "execution_count": 145,
   "id": "b65e942c-a510-4cd9-9773-b6d07271b200",
   "metadata": {},
   "outputs": [
    {
     "data": {
      "text/html": [
       "<div>\n",
       "<style scoped>\n",
       "    .dataframe tbody tr th:only-of-type {\n",
       "        vertical-align: middle;\n",
       "    }\n",
       "\n",
       "    .dataframe tbody tr th {\n",
       "        vertical-align: top;\n",
       "    }\n",
       "\n",
       "    .dataframe thead th {\n",
       "        text-align: right;\n",
       "    }\n",
       "</style>\n",
       "<table border=\"1\" class=\"dataframe\">\n",
       "  <thead>\n",
       "    <tr style=\"text-align: right;\">\n",
       "      <th></th>\n",
       "      <th>Country</th>\n",
       "      <th>Ladder score</th>\n",
       "      <th>upperwhisker</th>\n",
       "      <th>lowerwhisker</th>\n",
       "      <th>Explained by: Log GDP per capita</th>\n",
       "      <th>Explained by: Social support</th>\n",
       "      <th>Explained by: Healthy life expectancy</th>\n",
       "      <th>Explained by: Freedom to make life choices</th>\n",
       "      <th>Explained by: Generosity</th>\n",
       "      <th>Explained by: Perceptions of corruption</th>\n",
       "      <th>Dystopia + residual</th>\n",
       "    </tr>\n",
       "  </thead>\n",
       "  <tbody>\n",
       "    <tr>\n",
       "      <th>1</th>\n",
       "      <td>Denmark</td>\n",
       "      <td>7.5827</td>\n",
       "      <td>7.665297</td>\n",
       "      <td>7.500103</td>\n",
       "      <td>1.907798</td>\n",
       "      <td>1.520361</td>\n",
       "      <td>0.698944</td>\n",
       "      <td>0.822740</td>\n",
       "      <td>0.203579</td>\n",
       "      <td>0.548413</td>\n",
       "      <td>1.880887</td>\n",
       "    </tr>\n",
       "    <tr>\n",
       "      <th>9</th>\n",
       "      <td>Australia</td>\n",
       "      <td>7.0569</td>\n",
       "      <td>7.140660</td>\n",
       "      <td>6.973140</td>\n",
       "      <td>1.854258</td>\n",
       "      <td>1.461091</td>\n",
       "      <td>0.692018</td>\n",
       "      <td>0.756271</td>\n",
       "      <td>0.225208</td>\n",
       "      <td>0.323352</td>\n",
       "      <td>1.744744</td>\n",
       "    </tr>\n",
       "    <tr>\n",
       "      <th>10</th>\n",
       "      <td>New Zealand</td>\n",
       "      <td>7.0292</td>\n",
       "      <td>7.104537</td>\n",
       "      <td>6.953863</td>\n",
       "      <td>1.810349</td>\n",
       "      <td>1.526940</td>\n",
       "      <td>0.672621</td>\n",
       "      <td>0.745547</td>\n",
       "      <td>0.226082</td>\n",
       "      <td>0.480217</td>\n",
       "      <td>1.567451</td>\n",
       "    </tr>\n",
       "    <tr>\n",
       "      <th>22</th>\n",
       "      <td>United States</td>\n",
       "      <td>6.7248</td>\n",
       "      <td>6.818423</td>\n",
       "      <td>6.631177</td>\n",
       "      <td>1.938863</td>\n",
       "      <td>1.391735</td>\n",
       "      <td>0.542401</td>\n",
       "      <td>0.586354</td>\n",
       "      <td>0.223286</td>\n",
       "      <td>0.169151</td>\n",
       "      <td>1.873055</td>\n",
       "    </tr>\n",
       "    <tr>\n",
       "      <th>26</th>\n",
       "      <td>France</td>\n",
       "      <td>6.6090</td>\n",
       "      <td>6.685018</td>\n",
       "      <td>6.532982</td>\n",
       "      <td>1.818343</td>\n",
       "      <td>1.348102</td>\n",
       "      <td>0.727347</td>\n",
       "      <td>0.649820</td>\n",
       "      <td>0.112280</td>\n",
       "      <td>0.280878</td>\n",
       "      <td>1.672188</td>\n",
       "    </tr>\n",
       "    <tr>\n",
       "      <th>55</th>\n",
       "      <td>Hungary</td>\n",
       "      <td>6.0169</td>\n",
       "      <td>6.123945</td>\n",
       "      <td>5.909855</td>\n",
       "      <td>1.722071</td>\n",
       "      <td>1.528214</td>\n",
       "      <td>0.595742</td>\n",
       "      <td>0.580927</td>\n",
       "      <td>0.122653</td>\n",
       "      <td>0.067108</td>\n",
       "      <td>1.400156</td>\n",
       "    </tr>\n",
       "  </tbody>\n",
       "</table>\n",
       "</div>"
      ],
      "text/plain": [
       "          Country  Ladder score  upperwhisker  lowerwhisker  \\\n",
       "1         Denmark        7.5827      7.665297      7.500103   \n",
       "9       Australia        7.0569      7.140660      6.973140   \n",
       "10    New Zealand        7.0292      7.104537      6.953863   \n",
       "22  United States        6.7248      6.818423      6.631177   \n",
       "26         France        6.6090      6.685018      6.532982   \n",
       "55        Hungary        6.0169      6.123945      5.909855   \n",
       "\n",
       "    Explained by: Log GDP per capita  Explained by: Social support  \\\n",
       "1                           1.907798                      1.520361   \n",
       "9                           1.854258                      1.461091   \n",
       "10                          1.810349                      1.526940   \n",
       "22                          1.938863                      1.391735   \n",
       "26                          1.818343                      1.348102   \n",
       "55                          1.722071                      1.528214   \n",
       "\n",
       "    Explained by: Healthy life expectancy  \\\n",
       "1                                0.698944   \n",
       "9                                0.692018   \n",
       "10                               0.672621   \n",
       "22                               0.542401   \n",
       "26                               0.727347   \n",
       "55                               0.595742   \n",
       "\n",
       "    Explained by: Freedom to make life choices  Explained by: Generosity  \\\n",
       "1                                     0.822740                  0.203579   \n",
       "9                                     0.756271                  0.225208   \n",
       "10                                    0.745547                  0.226082   \n",
       "22                                    0.586354                  0.223286   \n",
       "26                                    0.649820                  0.112280   \n",
       "55                                    0.580927                  0.122653   \n",
       "\n",
       "    Explained by: Perceptions of corruption  Dystopia + residual  \n",
       "1                                  0.548413             1.880887  \n",
       "9                                  0.323352             1.744744  \n",
       "10                                 0.480217             1.567451  \n",
       "22                                 0.169151             1.873055  \n",
       "26                                 0.280878             1.672188  \n",
       "55                                 0.067108             1.400156  "
      ]
     },
     "execution_count": 145,
     "metadata": {},
     "output_type": "execute_result"
    }
   ],
   "source": [
    "# fetching the specific countrie as features for test data\n",
    "\n",
    "countries_for_analysis = ['Turkey','Hungary','France','United States','New Zealand','Australia','Denmark'] \n",
    "\n",
    "filtered_df2 = df2[df2['Country'].isin(countries_for_analysis)]\n",
    "filtered_df2"
   ]
  },
  {
   "cell_type": "code",
   "execution_count": 146,
   "id": "934c808e-89b3-41c0-97b3-e115314a7df1",
   "metadata": {},
   "outputs": [],
   "source": [
    "# removing the index and make the country as the index\n",
    "\n",
    "filtered_df2.reset_index(drop = True, inplace = True)\n",
    "filtered_df2.set_index('Country',inplace= True)"
   ]
  },
  {
   "cell_type": "code",
   "execution_count": 147,
   "id": "0daf1101-3f18-48af-a59f-1c5489c51fcd",
   "metadata": {},
   "outputs": [
    {
     "name": "stderr",
     "output_type": "stream",
     "text": [
      "/var/folders/nb/094jxb115nj0gjxwpmy6b2cc0000gn/T/ipykernel_84112/853231695.py:1: SettingWithCopyWarning: \n",
      "A value is trying to be set on a copy of a slice from a DataFrame\n",
      "\n",
      "See the caveats in the documentation: https://pandas.pydata.org/pandas-docs/stable/user_guide/indexing.html#returning-a-view-versus-a-copy\n",
      "  filtered_df2.rename(columns = {'Ladder score':'Life satisfaction'},inplace = True)\n"
     ]
    }
   ],
   "source": [
    "\n",
    "filtered_df2.rename(columns = {'Ladder score':'Life satisfaction'},inplace = True)"
   ]
  },
  {
   "cell_type": "code",
   "execution_count": 148,
   "id": "27d68519-6c2c-4bcb-a8fe-a28fd559e3d1",
   "metadata": {},
   "outputs": [
    {
     "data": {
      "text/html": [
       "<div>\n",
       "<style scoped>\n",
       "    .dataframe tbody tr th:only-of-type {\n",
       "        vertical-align: middle;\n",
       "    }\n",
       "\n",
       "    .dataframe tbody tr th {\n",
       "        vertical-align: top;\n",
       "    }\n",
       "\n",
       "    .dataframe thead th {\n",
       "        text-align: right;\n",
       "    }\n",
       "</style>\n",
       "<table border=\"1\" class=\"dataframe\">\n",
       "  <thead>\n",
       "    <tr style=\"text-align: right;\">\n",
       "      <th></th>\n",
       "      <th>Life satisfaction</th>\n",
       "    </tr>\n",
       "    <tr>\n",
       "      <th>Country</th>\n",
       "      <th></th>\n",
       "    </tr>\n",
       "  </thead>\n",
       "  <tbody>\n",
       "    <tr>\n",
       "      <th>Denmark</th>\n",
       "      <td>7.5827</td>\n",
       "    </tr>\n",
       "    <tr>\n",
       "      <th>Australia</th>\n",
       "      <td>7.0569</td>\n",
       "    </tr>\n",
       "    <tr>\n",
       "      <th>New Zealand</th>\n",
       "      <td>7.0292</td>\n",
       "    </tr>\n",
       "    <tr>\n",
       "      <th>United States</th>\n",
       "      <td>6.7248</td>\n",
       "    </tr>\n",
       "    <tr>\n",
       "      <th>France</th>\n",
       "      <td>6.6090</td>\n",
       "    </tr>\n",
       "    <tr>\n",
       "      <th>Hungary</th>\n",
       "      <td>6.0169</td>\n",
       "    </tr>\n",
       "  </tbody>\n",
       "</table>\n",
       "</div>"
      ],
      "text/plain": [
       "               Life satisfaction\n",
       "Country                         \n",
       "Denmark                   7.5827\n",
       "Australia                 7.0569\n",
       "New Zealand               7.0292\n",
       "United States             6.7248\n",
       "France                    6.6090\n",
       "Hungary                   6.0169"
      ]
     },
     "execution_count": 148,
     "metadata": {},
     "output_type": "execute_result"
    }
   ],
   "source": [
    "\n",
    "\n",
    "updated_dataframe = filtered_df2[['Life satisfaction']]\n",
    "updated_dataframe"
   ]
  },
  {
   "cell_type": "code",
   "execution_count": 149,
   "id": "6da9531d-202c-4662-931b-e38cccb0df31",
   "metadata": {},
   "outputs": [],
   "source": [
    "#merging the dataframes using join, how = inner will consider all the index which is common in both"
   ]
  },
  {
   "cell_type": "code",
   "execution_count": 168,
   "id": "b3c975c0-5614-438e-b7a3-e1c3082256e9",
   "metadata": {},
   "outputs": [
    {
     "data": {
      "text/html": [
       "<div>\n",
       "<style scoped>\n",
       "    .dataframe tbody tr th:only-of-type {\n",
       "        vertical-align: middle;\n",
       "    }\n",
       "\n",
       "    .dataframe tbody tr th {\n",
       "        vertical-align: top;\n",
       "    }\n",
       "\n",
       "    .dataframe thead th {\n",
       "        text-align: right;\n",
       "    }\n",
       "</style>\n",
       "<table border=\"1\" class=\"dataframe\">\n",
       "  <thead>\n",
       "    <tr style=\"text-align: right;\">\n",
       "      <th></th>\n",
       "      <th>GDP per capita</th>\n",
       "      <th>Life satisfaction</th>\n",
       "    </tr>\n",
       "    <tr>\n",
       "      <th>Country</th>\n",
       "      <th></th>\n",
       "      <th></th>\n",
       "    </tr>\n",
       "  </thead>\n",
       "  <tbody>\n",
       "    <tr>\n",
       "      <th>Australia</th>\n",
       "      <td>52049.430</td>\n",
       "      <td>7.0569</td>\n",
       "    </tr>\n",
       "    <tr>\n",
       "      <th>Denmark</th>\n",
       "      <td>50689.680</td>\n",
       "      <td>7.5827</td>\n",
       "    </tr>\n",
       "    <tr>\n",
       "      <th>France</th>\n",
       "      <td>39065.710</td>\n",
       "      <td>6.6090</td>\n",
       "    </tr>\n",
       "    <tr>\n",
       "      <th>Hungary</th>\n",
       "      <td>29451.855</td>\n",
       "      <td>6.0169</td>\n",
       "    </tr>\n",
       "    <tr>\n",
       "      <th>New Zealand</th>\n",
       "      <td>38250.120</td>\n",
       "      <td>7.0292</td>\n",
       "    </tr>\n",
       "    <tr>\n",
       "      <th>United States</th>\n",
       "      <td>58487.465</td>\n",
       "      <td>6.7248</td>\n",
       "    </tr>\n",
       "  </tbody>\n",
       "</table>\n",
       "</div>"
      ],
      "text/plain": [
       "               GDP per capita  Life satisfaction\n",
       "Country                                         \n",
       "Australia           52049.430             7.0569\n",
       "Denmark             50689.680             7.5827\n",
       "France              39065.710             6.6090\n",
       "Hungary             29451.855             6.0169\n",
       "New Zealand         38250.120             7.0292\n",
       "United States       58487.465             6.7248"
      ]
     },
     "execution_count": 168,
     "metadata": {},
     "output_type": "execute_result"
    }
   ],
   "source": [
    "final_df = filtered_df1.join(updated_dataframe,how = 'inner')\n",
    "final_df \n"
   ]
  },
  {
   "cell_type": "code",
   "execution_count": 151,
   "id": "c6e17adf-0584-4508-8f16-317595d590a2",
   "metadata": {},
   "outputs": [
    {
     "data": {
      "text/html": [
       "<div>\n",
       "<style scoped>\n",
       "    .dataframe tbody tr th:only-of-type {\n",
       "        vertical-align: middle;\n",
       "    }\n",
       "\n",
       "    .dataframe tbody tr th {\n",
       "        vertical-align: top;\n",
       "    }\n",
       "\n",
       "    .dataframe thead th {\n",
       "        text-align: right;\n",
       "    }\n",
       "</style>\n",
       "<table border=\"1\" class=\"dataframe\">\n",
       "  <thead>\n",
       "    <tr style=\"text-align: right;\">\n",
       "      <th></th>\n",
       "      <th>GDP per capita</th>\n",
       "      <th>Life satisfaction</th>\n",
       "    </tr>\n",
       "    <tr>\n",
       "      <th>Country</th>\n",
       "      <th></th>\n",
       "      <th></th>\n",
       "    </tr>\n",
       "  </thead>\n",
       "  <tbody>\n",
       "    <tr>\n",
       "      <th>Australia</th>\n",
       "      <td>52049.430</td>\n",
       "      <td>7.0569</td>\n",
       "    </tr>\n",
       "    <tr>\n",
       "      <th>Denmark</th>\n",
       "      <td>50689.680</td>\n",
       "      <td>7.5827</td>\n",
       "    </tr>\n",
       "    <tr>\n",
       "      <th>France</th>\n",
       "      <td>39065.710</td>\n",
       "      <td>6.6090</td>\n",
       "    </tr>\n",
       "    <tr>\n",
       "      <th>Hungary</th>\n",
       "      <td>29451.855</td>\n",
       "      <td>6.0169</td>\n",
       "    </tr>\n",
       "    <tr>\n",
       "      <th>New Zealand</th>\n",
       "      <td>38250.120</td>\n",
       "      <td>7.0292</td>\n",
       "    </tr>\n",
       "    <tr>\n",
       "      <th>Turkey</th>\n",
       "      <td>27361.988</td>\n",
       "      <td>5.5000</td>\n",
       "    </tr>\n",
       "    <tr>\n",
       "      <th>United States</th>\n",
       "      <td>58487.465</td>\n",
       "      <td>6.7248</td>\n",
       "    </tr>\n",
       "  </tbody>\n",
       "</table>\n",
       "</div>"
      ],
      "text/plain": [
       "               GDP per capita  Life satisfaction\n",
       "Country                                         \n",
       "Australia           52049.430             7.0569\n",
       "Denmark             50689.680             7.5827\n",
       "France              39065.710             6.6090\n",
       "Hungary             29451.855             6.0169\n",
       "New Zealand         38250.120             7.0292\n",
       "Turkey              27361.988             5.5000\n",
       "United States       58487.465             6.7248"
      ]
     },
     "execution_count": 151,
     "metadata": {},
     "output_type": "execute_result"
    }
   ],
   "source": [
    "#filling na value by checking online the life satisfaction in Turkey\n",
    "final_df['Life satisfaction'] = final_df['Life satisfaction'].fillna(5.5)\n",
    "final_df"
   ]
  },
  {
   "cell_type": "code",
   "execution_count": 152,
   "id": "232037ac-25f7-406a-887d-43df4d721c9d",
   "metadata": {},
   "outputs": [
    {
     "data": {
      "text/html": [
       "<div>\n",
       "<style scoped>\n",
       "    .dataframe tbody tr th:only-of-type {\n",
       "        vertical-align: middle;\n",
       "    }\n",
       "\n",
       "    .dataframe tbody tr th {\n",
       "        vertical-align: top;\n",
       "    }\n",
       "\n",
       "    .dataframe thead th {\n",
       "        text-align: right;\n",
       "    }\n",
       "</style>\n",
       "<table border=\"1\" class=\"dataframe\">\n",
       "  <thead>\n",
       "    <tr style=\"text-align: right;\">\n",
       "      <th></th>\n",
       "      <th>GDP per capita</th>\n",
       "      <th>Life satisfaction</th>\n",
       "    </tr>\n",
       "    <tr>\n",
       "      <th>Country</th>\n",
       "      <th></th>\n",
       "      <th></th>\n",
       "    </tr>\n",
       "  </thead>\n",
       "  <tbody>\n",
       "    <tr>\n",
       "      <th>Australia</th>\n",
       "      <td>52049</td>\n",
       "      <td>7.0569</td>\n",
       "    </tr>\n",
       "    <tr>\n",
       "      <th>Denmark</th>\n",
       "      <td>50689</td>\n",
       "      <td>7.5827</td>\n",
       "    </tr>\n",
       "    <tr>\n",
       "      <th>France</th>\n",
       "      <td>39065</td>\n",
       "      <td>6.6090</td>\n",
       "    </tr>\n",
       "    <tr>\n",
       "      <th>Hungary</th>\n",
       "      <td>29451</td>\n",
       "      <td>6.0169</td>\n",
       "    </tr>\n",
       "    <tr>\n",
       "      <th>New Zealand</th>\n",
       "      <td>38250</td>\n",
       "      <td>7.0292</td>\n",
       "    </tr>\n",
       "    <tr>\n",
       "      <th>Turkey</th>\n",
       "      <td>27361</td>\n",
       "      <td>5.5000</td>\n",
       "    </tr>\n",
       "    <tr>\n",
       "      <th>United States</th>\n",
       "      <td>58487</td>\n",
       "      <td>6.7248</td>\n",
       "    </tr>\n",
       "  </tbody>\n",
       "</table>\n",
       "</div>"
      ],
      "text/plain": [
       "               GDP per capita  Life satisfaction\n",
       "Country                                         \n",
       "Australia               52049             7.0569\n",
       "Denmark                 50689             7.5827\n",
       "France                  39065             6.6090\n",
       "Hungary                 29451             6.0169\n",
       "New Zealand             38250             7.0292\n",
       "Turkey                  27361             5.5000\n",
       "United States           58487             6.7248"
      ]
     },
     "execution_count": 152,
     "metadata": {},
     "output_type": "execute_result"
    }
   ],
   "source": [
    "# converting the GDP from float to int\n",
    "\n",
    "final_df['GDP per capita'] = final_df['GDP per capita'].astype(int)\n",
    "final_df"
   ]
  },
  {
   "cell_type": "code",
   "execution_count": 153,
   "id": "990fcb90-d1e1-48e7-bee4-a913d49f5667",
   "metadata": {},
   "outputs": [
    {
     "data": {
      "text/html": [
       "<div>\n",
       "<style scoped>\n",
       "    .dataframe tbody tr th:only-of-type {\n",
       "        vertical-align: middle;\n",
       "    }\n",
       "\n",
       "    .dataframe tbody tr th {\n",
       "        vertical-align: top;\n",
       "    }\n",
       "\n",
       "    .dataframe thead th {\n",
       "        text-align: right;\n",
       "    }\n",
       "</style>\n",
       "<table border=\"1\" class=\"dataframe\">\n",
       "  <thead>\n",
       "    <tr style=\"text-align: right;\">\n",
       "      <th></th>\n",
       "      <th>GDP per capita</th>\n",
       "      <th>Life satisfaction</th>\n",
       "    </tr>\n",
       "    <tr>\n",
       "      <th>Country</th>\n",
       "      <th></th>\n",
       "      <th></th>\n",
       "    </tr>\n",
       "  </thead>\n",
       "  <tbody>\n",
       "    <tr>\n",
       "      <th>Turkey</th>\n",
       "      <td>27361</td>\n",
       "      <td>5.5</td>\n",
       "    </tr>\n",
       "    <tr>\n",
       "      <th>Hungary</th>\n",
       "      <td>29451</td>\n",
       "      <td>6.0</td>\n",
       "    </tr>\n",
       "    <tr>\n",
       "      <th>New Zealand</th>\n",
       "      <td>38250</td>\n",
       "      <td>7.0</td>\n",
       "    </tr>\n",
       "    <tr>\n",
       "      <th>France</th>\n",
       "      <td>39065</td>\n",
       "      <td>6.6</td>\n",
       "    </tr>\n",
       "    <tr>\n",
       "      <th>Denmark</th>\n",
       "      <td>50689</td>\n",
       "      <td>7.6</td>\n",
       "    </tr>\n",
       "    <tr>\n",
       "      <th>Australia</th>\n",
       "      <td>52049</td>\n",
       "      <td>7.1</td>\n",
       "    </tr>\n",
       "    <tr>\n",
       "      <th>United States</th>\n",
       "      <td>58487</td>\n",
       "      <td>6.7</td>\n",
       "    </tr>\n",
       "  </tbody>\n",
       "</table>\n",
       "</div>"
      ],
      "text/plain": [
       "               GDP per capita  Life satisfaction\n",
       "Country                                         \n",
       "Turkey                  27361                5.5\n",
       "Hungary                 29451                6.0\n",
       "New Zealand             38250                7.0\n",
       "France                  39065                6.6\n",
       "Denmark                 50689                7.6\n",
       "Australia               52049                7.1\n",
       "United States           58487                6.7"
      ]
     },
     "execution_count": 153,
     "metadata": {},
     "output_type": "execute_result"
    }
   ],
   "source": [
    "# fetching the one value after point\n",
    "\n",
    "final_df['Life satisfaction'] = final_df['Life satisfaction'].round(1)\n",
    "final_df.sort_values('GDP per capita')"
   ]
  },
  {
   "cell_type": "code",
   "execution_count": 154,
   "id": "936d7d1a-f961-490b-a028-ee3ce75119c5",
   "metadata": {},
   "outputs": [
    {
     "data": {
      "text/plain": [
       "<matplotlib.collections.PathCollection at 0x13bf68110>"
      ]
     },
     "execution_count": 154,
     "metadata": {},
     "output_type": "execute_result"
    },
    {
     "data": {
      "image/png": "[encoded data removed]",
      "text/plain": [
       "<Figure size 640x480 with 1 Axes>"
      ]
     },
     "metadata": {},
     "output_type": "display_data"
    }
   ],
   "source": [
    "#plotting the scatter plot on the actual data"
   ]
  },
  {
   "cell_type": "code",
   "execution_count": 155,
   "id": "b63ffbb9-b20f-44dc-baf6-720375f3d037",
   "metadata": {},
   "outputs": [
    {
     "data": {
      "text/html": [
       "<style>#sk-container-id-2 {color: black;background-color: white;}#sk-container-id-2 pre{padding: 0;}#sk-container-id-2 div.sk-toggleable {background-color: white;}#sk-container-id-2 label.sk-toggleable__label {cursor: pointer;display: block;width: 100%;margin-bottom: 0;padding: 0.3em;box-sizing: border-box;text-align: center;}#sk-container-id-2 label.sk-toggleable__label-arrow:before {content: \"▸\";float: left;margin-right: 0.25em;color: #696969;}#sk-container-id-2 label.sk-toggleable__label-arrow:hover:before {color: black;}#sk-container-id-2 div.sk-estimator:hover label.sk-toggleable__label-arrow:before {color: black;}#sk-container-id-2 div.sk-toggleable__content {max-height: 0;max-width: 0;overflow: hidden;text-align: left;background-color: #f0f8ff;}#sk-container-id-2 div.sk-toggleable__content pre {margin: 0.2em;color: black;border-radius: 0.25em;background-color: #f0f8ff;}#sk-container-id-2 input.sk-toggleable__control:checked~div.sk-toggleable__content {max-height: 200px;max-width: 100%;overflow: auto;}#sk-container-id-2 input.sk-toggleable__control:checked~label.sk-toggleable__label-arrow:before {content: \"▾\";}#sk-container-id-2 div.sk-estimator input.sk-toggleable__control:checked~label.sk-toggleable__label {background-color: #d4ebff;}#sk-container-id-2 div.sk-label input.sk-toggleable__control:checked~label.sk-toggleable__label {background-color: #d4ebff;}#sk-container-id-2 input.sk-hidden--visually {border: 0;clip: rect(1px 1px 1px 1px);clip: rect(1px, 1px, 1px, 1px);height: 1px;margin: -1px;overflow: hidden;padding: 0;position: absolute;width: 1px;}#sk-container-id-2 div.sk-estimator {font-family: monospace;background-color: #f0f8ff;border: 1px dotted black;border-radius: 0.25em;box-sizing: border-box;margin-bottom: 0.5em;}#sk-container-id-2 div.sk-estimator:hover {background-color: #d4ebff;}#sk-container-id-2 div.sk-parallel-item::after {content: \"\";width: 100%;border-bottom: 1px solid gray;flex-grow: 1;}#sk-container-id-2 div.sk-label:hover label.sk-toggleable__label {background-color: #d4ebff;}#sk-container-id-2 div.sk-serial::before {content: \"\";position: absolute;border-left: 1px solid gray;box-sizing: border-box;top: 0;bottom: 0;left: 50%;z-index: 0;}#sk-container-id-2 div.sk-serial {display: flex;flex-direction: column;align-items: center;background-color: white;padding-right: 0.2em;padding-left: 0.2em;position: relative;}#sk-container-id-2 div.sk-item {position: relative;z-index: 1;}#sk-container-id-2 div.sk-parallel {display: flex;align-items: stretch;justify-content: center;background-color: white;position: relative;}#sk-container-id-2 div.sk-item::before, #sk-container-id-2 div.sk-parallel-item::before {content: \"\";position: absolute;border-left: 1px solid gray;box-sizing: border-box;top: 0;bottom: 0;left: 50%;z-index: -1;}#sk-container-id-2 div.sk-parallel-item {display: flex;flex-direction: column;z-index: 1;position: relative;background-color: white;}#sk-container-id-2 div.sk-parallel-item:first-child::after {align-self: flex-end;width: 50%;}#sk-container-id-2 div.sk-parallel-item:last-child::after {align-self: flex-start;width: 50%;}#sk-container-id-2 div.sk-parallel-item:only-child::after {width: 0;}#sk-container-id-2 div.sk-dashed-wrapped {border: 1px dashed gray;margin: 0 0.4em 0.5em 0.4em;box-sizing: border-box;padding-bottom: 0.4em;background-color: white;}#sk-container-id-2 div.sk-label label {font-family: monospace;font-weight: bold;display: inline-block;line-height: 1.2em;}#sk-container-id-2 div.sk-label-container {text-align: center;}#sk-container-id-2 div.sk-container {/* jupyter's `normalize.less` sets `[hidden] { display: none; }` but bootstrap.min.css set `[hidden] { display: none !important; }` so we also need the `!important` here to be able to override the default hidden behavior on the sphinx rendered scikit-learn.org. See: https://github.com/scikit-learn/scikit-learn/issues/21755 */display: inline-block !important;position: relative;}#sk-container-id-2 div.sk-text-repr-fallback {display: none;}</style><div id=\"sk-container-id-2\" class=\"sk-top-container\"><div class=\"sk-text-repr-fallback\"><pre>LinearRegression()</pre><b>In a Jupyter environment, please rerun this cell to show the HTML representation or trust the notebook. <br />On GitHub, the HTML representation is unable to render, please try loading this page with nbviewer.org.</b></div><div class=\"sk-container\" hidden><div class=\"sk-item\"><div class=\"sk-estimator sk-toggleable\"><input class=\"sk-toggleable__control sk-hidden--visually\" id=\"sk-estimator-id-2\" type=\"checkbox\" checked><label for=\"sk-estimator-id-2\" class=\"sk-toggleable__label sk-toggleable__label-arrow\">LinearRegression</label><div class=\"sk-toggleable__content\"><pre>LinearRegression()</pre></div></div></div></div></div>"
      ],
      "text/plain": [
       "LinearRegression()"
      ]
     },
     "execution_count": 155,
     "metadata": {},
     "output_type": "execute_result"
    }
   ],
   "source": [
    "# setting up the model and train the model\n",
    "model = LinearRegression()\n",
    "\n",
    "X = final_df[['GDP per capita']]\n",
    "y = final_df[['Life satisfaction']]\n",
    "model.fit(X,y)"
   ]
  },
  {
   "cell_type": "code",
   "execution_count": 157,
   "id": "39b96ffa-a423-4886-9504-3223e3ef86b1",
   "metadata": {},
   "outputs": [
    {
     "data": {
      "text/plain": [
       "array([[7.08080525],\n",
       "       [7.02037322],\n",
       "       [6.50385713],\n",
       "       [6.07665602],\n",
       "       [6.46764235],\n",
       "       [5.98378621],\n",
       "       [7.36687981]])"
      ]
     },
     "execution_count": 157,
     "metadata": {},
     "output_type": "execute_result"
    }
   ],
   "source": [
    "# predicted values\n",
    "y_pred = model.predict(X) "
   ]
  },
  {
   "cell_type": "code",
   "execution_count": 159,
   "id": "8241a5c4-8fca-44fe-81a8-8e104637ce82",
   "metadata": {},
   "outputs": [
    {
     "data": {
      "text/plain": [
       "0.18766252509428635"
      ]
     },
     "execution_count": 159,
     "metadata": {},
     "output_type": "execute_result"
    }
   ],
   "source": [
    "# mean squared error (actual value and predicted value), if MSE is low then our predication is good like here it is 0.18 which means our \n",
    "# prediction is similar to the actual data\n",
    "mse = mean_squared_error(y, y_pred)\n",
    "mse"
   ]
  },
  {
   "cell_type": "code",
   "execution_count": 165,
   "id": "c193ea38-fd98-47d3-8aca-d6a18041f9d2",
   "metadata": {},
   "outputs": [
    {
     "data": {
      "text/plain": [
       "[<matplotlib.lines.Line2D at 0x13bfff0d0>]"
      ]
     },
     "execution_count": 165,
     "metadata": {},
     "output_type": "execute_result"
    },
    {
     "data": {
      "image/png": "[encoded data removed]",
      "text/plain": [
       "<Figure size 640x480 with 1 Axes>"
      ]
     },
     "metadata": {},
     "output_type": "display_data"
    }
   ],
   "source": [
    "# plotting the points for both actual and predicted data and drawing the best fit line\n",
    "\n",
    "plt.scatter(X,y)\n",
    "plt.scatter(X,y_pred)\n",
    "plt.grid() \n",
    "plt.plot(X,y_pred)"
   ]
  },
  {
   "cell_type": "code",
   "execution_count": 167,
   "id": "e5e691c5-cca9-49e0-8ca8-8ef2c1745637",
   "metadata": {},
   "outputs": [
    {
     "name": "stderr",
     "output_type": "stream",
     "text": [
      "/Users/kumarkatariya/Desktop/Data_Science/anaconda3/lib/python3.11/site-packages/sklearn/base.py:439: UserWarning: X does not have valid feature names, but LinearRegression was fitted with feature names\n",
      "  warnings.warn(\n"
     ]
    },
    {
     "data": {
      "text/plain": [
       "array([[6.10105101]])"
      ]
     },
     "execution_count": 167,
     "metadata": {},
     "output_type": "execute_result"
    }
   ],
   "source": [
    "#predicting one new value based on the model which we have created above. \n",
    "\n",
    "X_new = [[30000]]\n",
    "model.predict(X_new)"
   ]
  },
  {
   "cell_type": "code",
   "execution_count": null,
   "id": "f5dcb518-b7a0-4c02-89e6-3fad27549866",
   "metadata": {},
   "outputs": [],
   "source": []
  },
  {
   "cell_type": "code",
   "execution_count": null,
   "id": "7d931077-6a4b-45b5-a6af-b2a610e7a5ea",
   "metadata": {},
   "outputs": [],
   "source": []
  },
  {
   "cell_type": "code",
   "execution_count": null,
   "id": "3136c9ba-31c0-49ea-ae41-02ad9d279e1f",
   "metadata": {},
   "outputs": [],
   "source": []
  }
 ],
 "metadata": {
  "kernelspec": {
   "display_name": "Python 3 (ipykernel)",
   "language": "python",
   "name": "python3"
  },
  "language_info": {
   "codemirror_mode": {
    "name": "ipython",
    "version": 3
   },
   "file_extension": ".py",
   "mimetype": "text/x-python",
   "name": "python",
   "nbconvert_exporter": "python",
   "pygments_lexer": "ipython3",
   "version": "3.11.7"
  },
  "widgets": {
   "application/vnd.jupyter.widget-state+json": {
    "state": {},
    "version_major": 2,
    "version_minor": 0
   }
  }
 },
 "nbformat": 4,
 "nbformat_minor": 5
}
